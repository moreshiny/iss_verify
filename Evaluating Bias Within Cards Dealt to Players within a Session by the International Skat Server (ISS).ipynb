{
 "cells": [
  {
   "cell_type": "markdown",
   "metadata": {},
   "source": [
    "# Evaluating Bias Within Cards Dealt to Players within a Session by the International Skat Server (ISS)\n",
    "## Overview\n",
    "Personal observations by players indicated that cards dealt by the International Skat Server (ISS) were not fully random and that certain sessions had sequences of ‘good’ cards, while other sessions had sequences of ‘bad’ cards.\n",
    "\n",
    "The resulting questions is whether there is a higher occurance of high or low quality cards within a particular session than can be explained by chance alone.\n",
    "\n",
    "What are high or low quality cards? The quality of a hand in Skat is complex as it depends both on the combination of cards, the type of game that a player could chose with them, the value of that game in bidding vs. the hands of other players, and the skill of the player in recognising all these factors.\n",
    "\n",
    "## Libraries Used\n"
   ]
  },
  {
   "cell_type": "code",
   "execution_count": null,
   "metadata": {},
   "outputs": [],
   "source": [
    "import issgame\n",
    "import random\n",
    "import statsmodels.api as api\n",
    "import statsmodels.stats.multitest as multitest\n",
    "import scipy.stats as stats\n",
    "import numpy\n",
    "import matplotlib.pyplot as pyplot\n",
    "# set pyplot to the standard background\n",
    "pyplot.style.use('fivethirtyeight')\n",
    "pyplot.rcParams['figure.dpi'] = 150\n",
    "pyplot.rcParams['savefig.dpi'] = 150"
   ]
  },
  {
   "cell_type": "markdown",
   "metadata": {},
   "source": [
    "\n",
    "## Skat Hand Quality\n",
    "An established approximation of the quality of a skat hand can be obtained by the Stegen Model, used in particular to give training skat players a reference for recognising which games are worth bidding for (https://www.skatfuchs.eu/SB-Kapitel3.pdf):\n",
    "\n",
    "For a normal suit game (pick highest scoring suit):\n",
    "\n",
    "+ 1 point per trump\n",
    "+ 1 point per jack\n",
    "+ 1 point per trump Ace, 10\n",
    "+ 1 point per other Ace, 10\n",
    "+ 0.5 points if player has Jacks of Clubs and Spades\n",
    "+ or 1.5 points if player has Jacks of Clubs, Spades, and Hearts\n",
    "+ or 0.5 points if player has Jacks of Spades, Hearts, and Diamonds\n",
    "+ or 2 points if player has all Jacks\n",
    "+ 0.5 points per missing suit\n",
    "+ as player behaviour adjustement that we do not consider (0.5 if opponent does not bid)\n",
    "\n",
    "A score of 10 or higher is considered good enough to bid.\n",
    "\n",
    "For a grand game:\n",
    "\n",
    "+ 1 point per Jack\n",
    "+ 1 point per Ace, 10\n",
    "\n",
    "For grands a score of 6 is considered good enough to bid. To make this comparable to the suit score, we can inflate Grand score by 5/3\n",
    "\n",
    "Based on this we can evaluate the quality of a hand based on the total score of a hand either for a suit or a grand game, whichever is higher.\n",
    "\n",
    "Stegen does not account for null games, so this analysis does not take into account the quality of cards for a null game.\n",
    "\n",
    "## Dataset\n",
    "Two datasets are available from the ISS Server that include over 7 million Skat games played:"
   ]
  },
  {
   "cell_type": "code",
   "execution_count": null,
   "metadata": {},
   "outputs": [],
   "source": [
    "!wget -nc https://skatgame.net/iss/iss-games-04-2021.sgf.bz2 -O data/iss-games-04-2021.sgf.bz2"
   ]
  },
  {
   "cell_type": "code",
   "execution_count": null,
   "metadata": {},
   "outputs": [],
   "source": [
    "!bunzip2 -k data/iss-games-04-2021.sgf.bz2"
   ]
  },
  {
   "cell_type": "markdown",
   "metadata": {},
   "source": [
    "We limit our analysis to 2019, 2020, and 2021:"
   ]
  },
  {
   "cell_type": "code",
   "execution_count": null,
   "metadata": {},
   "outputs": [],
   "source": [
    "!cat -v data/iss-games-04-2021.sgf | grep \"DT\\[2019\" > data/iss-games-04-2021_2019.sgf\n",
    "!cat -v data/iss-games-04-2021.sgf | grep \"DT\\[2020\" > data/iss-games-04-2021_2020.sgf\n",
    "!cat -v data/iss-games-04-2021.sgf | grep \"DT\\[2021\" > data/iss-games-04-2021_2021.sgf"
   ]
  },
  {
   "cell_type": "code",
   "execution_count": null,
   "metadata": {},
   "outputs": [],
   "source": [
    "with open('data/iss-games-04-2021_2019.sgf') as games_file:\n",
    "    print(games_file.readline())"
   ]
  },
  {
   "cell_type": "markdown",
   "metadata": {},
   "source": [
    "These datasets contain data points relevant to the analysis:\n",
    "\n",
    " + Players involved in a game (*P0\\[Montana\\]P1\\[vaun\\]P2\\[Ben\\]*)\n",
    " + Date and time of the game (*DT\\[2007-10-29/04:44:01/UTC\\]*)\n",
    " + Cards dealt to the Skat and players (*HT.ST.DK.HK.CT.* etc.)\n",
    "\n",
    "The datasets also contain details of the result of bidding and the resulting game, which we do not use for this analysis.\n",
    "\n",
    "## Extraction and conversion\n",
    "The datasets use a unique format and contain more information than required, so we extract only the relevant fields from both sets and write them to a clean datasets."
   ]
  },
  {
   "cell_type": "code",
   "execution_count": null,
   "metadata": {},
   "outputs": [],
   "source": [
    "input_filenames = [\n",
    "    'data/iss-games-04-2021_2019.sgf',\n",
    "    'data/iss-games-04-2021_2020.sgf',\n",
    "    'data/iss-games-04-2021_2021.sgf',\n",
    "]\n",
    "output_filename = 'data/iss_all_games.tsv'\n",
    "\n",
    "if not os.path.exists(output_filename):\n",
    "    issgame.extract_svg_hands(input_filenames, output_filename)\n"
   ]
  },
  {
   "cell_type": "markdown",
   "metadata": {},
   "source": [
    "This reduces the data to only the required fields by extracting the hand of each player:"
   ]
  },
  {
   "cell_type": "code",
   "execution_count": null,
   "metadata": {},
   "outputs": [],
   "source": [
    "with open(output_filename) as games_file:\n",
    "    line = games_file.readline()\n",
    "    # get the second line\n",
    "    line = games_file.readline()\n",
    "    print(line)\n",
    "    id_tag, session, player, position, hand_score = line.split('\\t')\n",
    "    print(\n",
    "        'ID:', id_tag,\n",
    "        '\\nSession:', session,\n",
    "        '\\nPlayer:', player,\n",
    "        '\\nPosition:', position,\n",
    "        '\\nHand:', hand_score,\n",
    "    )"
   ]
  },
  {
   "cell_type": "markdown",
   "metadata": {},
   "source": [
    "For the analysis we will focus on a single plyer (PeterB) and the hands dealt to that plyer. To do this, we further summarise those sessions into a single file:"
   ]
  },
  {
   "cell_type": "code",
   "execution_count": null,
   "metadata": {},
   "outputs": [],
   "source": [
    "input_filename = output_filename\n",
    "issgame.extract_sessions(input_filename, 'PeterB')"
   ]
  },
  {
   "cell_type": "code",
   "execution_count": null,
   "metadata": {},
   "outputs": [],
   "source": [
    "with open(input_filename[:-4] + '_PeterB.csv') as games_file:\n",
    "    # print just the first 4 full lines, store the final one as example line\n",
    "    for i in range(4):\n",
    "        line = games_file.readline()\n",
    "        print(line)\n",
    "\n",
    "    player, session, = line.split(',')[:2]\n",
    "    hand_scores = line.split(',')[2:]\n",
    "    # remove newline from final example hand score\n",
    "    hand_scores[-1] = hand_scores[-1][:-1]\n",
    "    print(\n",
    "        '\\nPlayer:', player,\n",
    "        '\\nSession:', session,\n",
    "        '\\nHand scores:', hand_scores,\n",
    "    )"
   ]
  },
  {
   "cell_type": "markdown",
   "metadata": {},
   "source": [
    "## Session Means Compared\n",
    "If the hands in a session were particularly good or poor this would be reflected in a high or low mean hand score of that session. To assess whether hands dealt to PeterB in certain sessions, we compare the mean hand score of that session to the mean hand score of all hands played from position 0 on the iss server.\n",
    "\n",
    "We first load all scores for hands played by PeterB, excluding those sessions with less than 10 hands, since a meaningful comparison cannot be made with such few hands.\n"
   ]
  },
  {
   "cell_type": "code",
   "execution_count": null,
   "metadata": {},
   "outputs": [],
   "source": [
    "player_filename = 'data/iss_all_games_PeterB.csv'\n",
    "player_hands = issgame.load_sessions(player_filename, 'PeterB')\n",
    "\n",
    "player_sessions = []\n",
    "session_n = []\n",
    "session_count = 0\n",
    "\n",
    "for session in player_hands['PeterB']:\n",
    "    # only consider sessions with 10 or more games\n",
    "    if len(player_hands['PeterB'][session]) >= 10:\n",
    "        player_sessions.append(session_count)\n",
    "        session_count += 1\n",
    "        session_n.append(len(player_hands['PeterB'][session]))"
   ]
  },
  {
   "cell_type": "markdown",
   "metadata": {},
   "source": [
    "We then load all scores for hands played by the player in position 1."
   ]
  },
  {
   "cell_type": "code",
   "execution_count": null,
   "metadata": {},
   "outputs": [],
   "source": [
    "all_hands_filename = 'data/iss_all_games.csv'\n",
    "all_hands = issgame.load_hands(input_filename, 1)"
   ]
  },
  {
   "cell_type": "markdown",
   "metadata": {},
   "source": [
    "Our default hypothesis that we are atempting to reject is:\n",
    "\n",
    "+ H0: The mean score of the session is the same as the mean score of overall sample.\n",
    "\n",
    "So the alternate hypothesis that we can accept, if H0 can be rejected is:\n",
    "\n",
    "+ HA: The mean score of the session is different from the mean score of the overall sample.\n",
    "\n",
    "The two populations whose mean hand score we are comparing are:\n",
    "\n",
    "+ All hands that could be dealt to all players on the ISS server\n",
    "+ The hands that could be dealt to PeterB in a particular session\n",
    "\n",
    "Since we do not know the standard deviation of the population and the session sample sizes are low (so we cannot assume normal distribution under CLT) we cannot use a z-test.\n"
   ]
  },
  {
   "cell_type": "code",
   "execution_count": null,
   "metadata": {},
   "outputs": [],
   "source": [
    "print(session_n)"
   ]
  },
  {
   "cell_type": "markdown",
   "metadata": {},
   "source": [
    "We also cannot assume that the variance of the sessions and overall sample are the same we cannot use a Student's t-test, so we use an independent two-sample Welch's t-test instead. Since we are testing for equality, we use a two-tailed measure (the session mean could be lower or higher than overall sample mean). The following additional assumptions must be met for this test:\n",
    "\n",
    "1. The data should be sampled independently\n",
    "\n",
    "Technically the scores of all hands includes a small number of scores of a particular sessions hands. However, since the sample size of the scores of all hands is several million, this should have no effect and can be neglected.\n",
    "\n",
    "2. The means of the two populations being compared should follow normal distributions.\n",
    "\n",
    "A Q-Q plot of a subsample of all hand scores does not appear to be fully normal:"
   ]
  },
  {
   "cell_type": "code",
   "execution_count": null,
   "metadata": {},
   "outputs": [],
   "source": [
    "all_hands_sample = []\n",
    "for i in range(100000):\n",
    "    all_hands_sample.append(random.choice(all_hands))\n",
    "\n",
    "all_hands_sample = numpy.array(all_hands_sample)\n",
    "\n",
    "api.qqplot(all_hands_sample, line='s')\n",
    "pyplot.show()"
   ]
  },
  {
   "cell_type": "markdown",
   "metadata": {},
   "source": [
    "Applying a square root transformation to the data corrects for this:"
   ]
  },
  {
   "cell_type": "code",
   "execution_count": null,
   "metadata": {},
   "outputs": [],
   "source": [
    "all_hands_sample_sqrt = numpy.sqrt(all_hands_sample)\n",
    "\n",
    "api.qqplot(all_hands_sample_sqrt, line='s')\n",
    "pyplot.show()"
   ]
  },
  {
   "cell_type": "markdown",
   "metadata": {},
   "source": [
    "In order to fulfill the requirement of normality, we transform (by taking the square root) both the dataset of all hands and the dataset of PeterB's sessions."
   ]
  },
  {
   "cell_type": "code",
   "execution_count": null,
   "metadata": {},
   "outputs": [],
   "source": [
    "all_hands = numpy.sqrt(all_hands)\n",
    "for session in player_hands['PeterB']:\n",
    "    player_hands['PeterB'][session] = numpy\\\n",
    "        .sqrt(player_hands['PeterB'][session])"
   ]
  },
  {
   "cell_type": "markdown",
   "metadata": {},
   "source": [
    "A repeat of the subsample Q-Q plot for scores of all hands now shows a normal distribution:"
   ]
  },
  {
   "cell_type": "code",
   "execution_count": null,
   "metadata": {},
   "outputs": [],
   "source": [
    "all_hands_sample = []\n",
    "for i in range(100000):\n",
    "    all_hands_sample.append(random.choice(all_hands))\n",
    "\n",
    "all_hands_sample = numpy.array(all_hands_sample)\n",
    "\n",
    "api.qqplot(all_hands_sample, line='s')\n",
    "pyplot.show()"
   ]
  },
  {
   "cell_type": "markdown",
   "metadata": {},
   "source": [
    "\n",
    "A Shapiro-Wilk test can be used to test whether the data was drawn from a normal distribution. We perform this test at the 5% confidence level. Since we are testing the same hypothesis (that the overall population of hand scores dealt to PeterB is normal) multiple times, we use the Holm-Bonferroni method to ensure a family-wise error rate of less than 5%."
   ]
  },
  {
   "cell_type": "code",
   "execution_count": null,
   "metadata": {},
   "outputs": [],
   "source": [
    "shwi_ps = []\n",
    "for session in player_hands['PeterB']:\n",
    "    # only consider sessions with 10 or more games\n",
    "    if len(player_hands['PeterB'][session]) >= 10:\n",
    "        # store p value of Shapiro-Wilk test for each session\n",
    "        shwi_ps.append(stats.shapiro(numpy.array(\n",
    "            player_hands['PeterB'][session]))[1]\n",
    "        )\n",
    "\n",
    "# sort the p values\n",
    "shwi_ps.sort()\n",
    "\n",
    "shwi_multi = multitest\\\n",
    "    .multipletests(shwi_ps, alpha=0.05, method='holm', is_sorted=True)\n",
    "table_values = []\n",
    "for i in range(len(shwi_multi[0])):\n",
    "    table_values.append([\n",
    "        shwi_multi[0][i],\n",
    "        format(round(shwi_ps[i], 3), '.3f'),\n",
    "        format(round(shwi_multi[1][i], 3), '.3f'), \"0.050\"\n",
    "    ])\n",
    "\n",
    "fig, ax = pyplot.subplots()\n",
    "ax.set_axis_off()\n",
    "ax.table(cellText=table_values, cellLoc='center',\n",
    "         colLabels=[\n",
    "             \"Result\",\n",
    "             \"P Value\",\n",
    "             \"Corrected P\",\n",
    "             \"Threshhold\",\n",
    "         ], loc='upper left')\n",
    "pyplot.show()"
   ]
  },
  {
   "cell_type": "markdown",
   "metadata": {},
   "source": [
    "We fail to reject the default hypothesis that the population from which the samples were drawn is normally distributed.\n",
    "\n",
    "Since both the individual session samples and the overall hand score sample show a normal distribution we can proceed with Welch's t-test. Once again, since we are performing multiple tests of the same hypothesis, we apply a Holm-Bonferroni correction.\n",
    "\n",
    "Since the impact of a type I error is high (unfairly accusing ISS of unfair shuffling), but the sample size within individual sessions is small, we select a 5% significance level.\n"
   ]
  },
  {
   "cell_type": "code",
   "execution_count": null,
   "metadata": {},
   "outputs": [],
   "source": [
    "ttest = []\n",
    "\n",
    "for session in player_hands['PeterB']:\n",
    "    # only consider sessions with 10 or more games\n",
    "    if len(player_hands['PeterB'][session]) >= 10:\n",
    "\n",
    "        # store p-value of Welch's t-test of difference in mean score between\n",
    "        # this session and all hands in the datasets\n",
    "        ttest.append(stats.ttest_ind(\n",
    "            player_hands['PeterB'][session], all_hands, equal_var=False)[1]\n",
    "        )\n",
    "\n",
    "# sort the p values\n",
    "ttest.sort()\n",
    "\n",
    "ttest_multi = multitest.multipletests(\n",
    "    ttest, alpha=0.05, method='holm', is_sorted=True\n",
    ")\n",
    "table_values = []\n",
    "for i in range(len(ttest_multi[0])):\n",
    "    table_values.append([ttest_multi[0][i], format(\n",
    "        round(ttest[i], 3), '.3f'),\n",
    "        format(\n",
    "            round(ttest_multi[1][i], 3), '.3f'), \"0.050\"]\n",
    "    )\n",
    "fig, ax = pyplot.subplots()\n",
    "ax.set_axis_off()\n",
    "ax.table(\n",
    "    cellText=table_values,\n",
    "    cellLoc='center',\n",
    "    colLabels=[\n",
    "        \"Result\",\n",
    "        \"P Value\",\n",
    "        \"Corrected P\",\n",
    "        \"Threshhold\",\n",
    "    ],\n",
    "    loc='upper left')\n",
    "pyplot.show()"
   ]
  },
  {
   "cell_type": "markdown",
   "metadata": {},
   "source": [
    "## Conclusion\n",
    "We fail to reject the default hypothesis and can conclude that we have found no evidence that the means of the scores of hands dealt to PeterB are different from the means of the scores of all hands dealt by the ISS. Thus there is no evidence that the quality of cards within a particular session differs from the others by more than could by expected due to random chance.\n"
   ]
  }
 ],
 "metadata": {
  "interpreter": {
   "hash": "ce240517eebcb7fbe62508930177185d09dd7d8411f3b3557682e39609762e97"
  },
  "kernelspec": {
   "display_name": "Python 3.6.13 64-bit ('myenv-jupyter': conda)",
   "name": "python3"
  },
  "language_info": {
   "codemirror_mode": {
    "name": "ipython",
    "version": 3
   },
   "file_extension": ".py",
   "mimetype": "text/x-python",
   "name": "python",
   "nbconvert_exporter": "python",
   "pygments_lexer": "ipython3",
   "version": "3.7.12"
  },
  "orig_nbformat": 2
 },
 "nbformat": 4,
 "nbformat_minor": 2
}
